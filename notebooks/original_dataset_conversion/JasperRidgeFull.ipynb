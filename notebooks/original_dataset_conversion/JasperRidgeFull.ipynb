{
 "cells": [
  {
   "cell_type": "markdown",
   "id": "5cecf8ff-0c6a-4b4b-86f7-992035a86099",
   "metadata": {},
   "source": [
    "# Imports"
   ]
  },
  {
   "cell_type": "code",
   "execution_count": 1,
   "id": "50ffb369-d9fb-4ce2-a796-4aebf8340c44",
   "metadata": {},
   "outputs": [],
   "source": [
    "import os\n",
    "import zipfile\n",
    "\n",
    "import numpy as np\n",
    "import matplotlib as mpl\n",
    "from matplotlib import pyplot as plt\n",
    "import scipy.io\n"
   ]
  },
  {
   "cell_type": "markdown",
   "id": "5e0cc381-1b96-4b58-8a67-61e05c59a3a0",
   "metadata": {},
   "source": [
    "# Parameters"
   ]
  },
  {
   "cell_type": "code",
   "execution_count": 2,
   "id": "71e1c5b0-e9b7-4b3b-81df-5ed3cd5ec4ba",
   "metadata": {},
   "outputs": [],
   "source": [
    "original_dirname = \"../../data/original_datasets/jasper_ridge\"\n",
    "original_hsi_basename = \"jasperRidge2_F224_2.mat\"\n",
    "original_groundtruth_basename = \"GroundTruth.zip\"\n",
    "\n",
    "converted_dirname = \"../../data/datasets/jasper_ridge\"\n",
    "converted_basename = \"jasper_ridge_full.npz\""
   ]
  },
  {
   "cell_type": "markdown",
   "id": "ad8b57bc-64ee-45d1-96e8-e6a4c3f2bc1c",
   "metadata": {},
   "source": [
    "# Function Definitions"
   ]
  },
  {
   "cell_type": "code",
   "execution_count": 3,
   "id": "eff3c11b-f494-4a83-9016-d0afc88d7119",
   "metadata": {},
   "outputs": [],
   "source": [
    "def mkdir(dir):\n",
    "    try: \n",
    "        os.makedirs(dir)\n",
    "    except OSError:\n",
    "        if not os.path.isdir(dir):\n",
    "            raise"
   ]
  },
  {
   "cell_type": "markdown",
   "id": "e9368c1d-2bb4-4682-87bf-4c395631908b",
   "metadata": {},
   "source": [
    "# Data Loading"
   ]
  },
  {
   "cell_type": "markdown",
   "id": "daafa49e-c550-4a17-8889-941715ee5567",
   "metadata": {},
   "source": [
    "## HSI Data"
   ]
  },
  {
   "cell_type": "code",
   "execution_count": 4,
   "id": "42bd14a1-e55d-4cd3-9a3f-9d4ceca38f89",
   "metadata": {},
   "outputs": [
    {
     "name": "stdout",
     "output_type": "stream",
     "text": [
      "jasperRidge2_F224_2.mat\n",
      "dict_keys(['__header__', '__version__', '__globals__', 'Region', 'SlectBands', 'nRow', 'nCol', 'nBand', 'Y', 'maxValue'])\n",
      "hsi_data: (100, 100, 224)\n"
     ]
    }
   ],
   "source": [
    "print(original_hsi_basename)\n",
    "filename = os.path.join(original_dirname, original_hsi_basename)\n",
    "matlab_data = scipy.io.loadmat(filename)\n",
    "print(matlab_data.keys())\n",
    "\n",
    "n_rows = matlab_data[\"nRow\"].flatten()[0]\n",
    "n_cols = matlab_data[\"nCol\"].flatten()[0]\n",
    "n_bands = matlab_data[\"nBand\"].flatten()[0]\n",
    "hsi_data = np.transpose(matlab_data[\"Y\"].reshape(n_bands, n_rows, n_cols))\n",
    "\n",
    "print(f\"hsi_data: {hsi_data.shape}\")"
   ]
  },
  {
   "cell_type": "markdown",
   "id": "f51d5a1e-22e3-407d-91f2-8e78087ad9d1",
   "metadata": {},
   "source": [
    "## Abundance Maps and Endmembers"
   ]
  },
  {
   "cell_type": "code",
   "execution_count": 5,
   "id": "9235b768-70ef-43d9-b4ec-0a66e0ec5375",
   "metadata": {},
   "outputs": [
    {
     "name": "stdout",
     "output_type": "stream",
     "text": [
      "GroundTruth.zip\n",
      "['GroundTruth/', 'GroundTruth/end4.mat', 'GroundTruth/end4_Abundance.fig', 'GroundTruth/end4_Materials.fig']\n",
      "dict_keys(['__header__', '__version__', '__globals__', 'cood', 'M', 'A'])\n",
      "    endmembers: (4, 198)\n",
      "abundance_maps: (100, 100, 4)\n",
      "        labels: ['Trees', 'Water', 'Soil', 'Road']\n"
     ]
    }
   ],
   "source": [
    "print(original_groundtruth_basename)\n",
    "filename = os.path.join(original_dirname, original_groundtruth_basename)\n",
    "\n",
    "with zipfile.ZipFile(filename, \"r\") as zip_fp:\n",
    "    print(zip_fp.namelist())\n",
    "    matlab_data = scipy.io.loadmat( zip_fp.open(\"GroundTruth/end4.mat\") )\n",
    "print(matlab_data.keys())\n",
    "\n",
    "endmembers = matlab_data[\"M\"].transpose()\n",
    "abundance_maps = np.transpose(\n",
    "    matlab_data[\"A\"].reshape(len(endmembers), n_rows, n_cols),\n",
    "    (2,1,0)\n",
    ")\n",
    "labels = [\"Trees\", \"Water\", \"Soil\", \"Road\"]\n",
    "colors = [\"forestgreen\", \"royalblue\", \"saddlebrown\", \"dimgray\"]\n",
    "\n",
    "print(f\"    endmembers: {endmembers.shape}\")\n",
    "print(f\"abundance_maps: {abundance_maps.shape}\")\n",
    "print(f\"        labels: {labels}\")"
   ]
  },
  {
   "cell_type": "markdown",
   "id": "193d1d47-645e-4edb-9906-55bd85b92f7c",
   "metadata": {},
   "source": [
    "# Spatial Resolution"
   ]
  },
  {
   "cell_type": "code",
   "execution_count": 6,
   "id": "3ac5cb89-15f2-4a29-a2e1-cf6366642011",
   "metadata": {},
   "outputs": [],
   "source": [
    "resolution = \"nm\"\n",
    "selected_bands = np.arange(1, n_bands+1, dtype=int)\n",
    "spectral_bands = np.linspace(380, 2500, 225)"
   ]
  },
  {
   "cell_type": "markdown",
   "id": "99682e34-95da-4a99-8b59-a940bae277c5",
   "metadata": {},
   "source": [
    "# Save Converted Data"
   ]
  },
  {
   "cell_type": "code",
   "execution_count": 7,
   "id": "8909211a-f5de-4a2f-b851-7385cf1664aa",
   "metadata": {},
   "outputs": [
    {
     "name": "stdout",
     "output_type": "stream",
     "text": [
      "jasper_ridge_full.npz\n",
      "../../data/datasets/jasper_ridge/jasper_ridge_full.npz\n"
     ]
    }
   ],
   "source": [
    "mkdir(converted_dirname)\n",
    "print(converted_basename)\n",
    "filename = os.path.join(converted_dirname, converted_basename)\n",
    "np.savez(\n",
    "    filename,\n",
    "    hsi_data=hsi_data,\n",
    "    endmembers=endmembers,\n",
    "    abundance_maps=abundance_maps,\n",
    "    labels=labels,\n",
    "    colors=colors,\n",
    "    spectral_bands=spectral_bands,\n",
    "    selected_bands=selected_bands,\n",
    "    resolution=resolution\n",
    ")\n",
    "print(filename)"
   ]
  }
 ],
 "metadata": {
  "kernelspec": {
   "display_name": "Python 3 (ipykernel)",
   "language": "python",
   "name": "python3"
  },
  "language_info": {
   "codemirror_mode": {
    "name": "ipython",
    "version": 3
   },
   "file_extension": ".py",
   "mimetype": "text/x-python",
   "name": "python",
   "nbconvert_exporter": "python",
   "pygments_lexer": "ipython3",
   "version": "3.11.7"
  }
 },
 "nbformat": 4,
 "nbformat_minor": 5
}
